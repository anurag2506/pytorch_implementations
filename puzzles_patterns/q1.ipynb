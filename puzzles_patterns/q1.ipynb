{
 "cells": [
  {
   "cell_type": "code",
   "execution_count": null,
   "metadata": {},
   "outputs": [
    {
     "name": "stdout",
     "output_type": "stream",
     "text": [
      "*\t*\t*\t*\t*\t\n",
      "\n",
      "*\t\t\t\t*\t\n",
      "\n",
      "*\t\t\t\t*\t\n",
      "\n",
      "*\t\t\t\t*\t\n",
      "\n",
      "*\t\t\t\t*\t\n",
      "\n",
      "*\t*\t*\t*\t*\t\n",
      "\n"
     ]
    }
   ],
   "source": [
    "# First Pattern: Square Hollow\n",
    "\n",
    "for i in range(6):\n",
    "    for j in range(5):\n",
    "        if i == 0 or i == 5:\n",
    "            print(\"*\\t\", end=\"\")\n",
    "        else:\n",
    "            if j == 0 or j == 4:\n",
    "                print(\"*\\t\", end=\"\")\n",
    "            else:\n",
    "                print(\"\\t\",end = \"\") # end = \"\" keeps the following prints on the same line unless explicitly mentioned\n",
    "                \n",
    "    print(\"\\n\")"
   ]
  },
  {
   "cell_type": "code",
   "execution_count": null,
   "metadata": {},
   "outputs": [],
   "source": [
    "# Number Triangular\n",
    "n = 4\n",
    "\n",
    "for i in range(4):\n",
    "    print((n-i+1)*\" 1\")"
   ]
  }
 ],
 "metadata": {
  "kernelspec": {
   "display_name": "Python 3",
   "language": "python",
   "name": "python3"
  },
  "language_info": {
   "codemirror_mode": {
    "name": "ipython",
    "version": 3
   },
   "file_extension": ".py",
   "mimetype": "text/x-python",
   "name": "python",
   "nbconvert_exporter": "python",
   "pygments_lexer": "ipython3",
   "version": "3.11.8"
  }
 },
 "nbformat": 4,
 "nbformat_minor": 2
}
