{
 "cells": [
  {
   "cell_type": "markdown",
   "id": "94350893",
   "metadata": {},
   "source": [
    "Implement a simple Library Management System using OOP concepts.\n",
    "\n",
    "Requirements:\n",
    "\n",
    "Create a base class Book with attributes:\n",
    "\n",
    "title, author, isbn, available_copies.\n",
    "\n",
    "Create a class Library that manages books:\n",
    "\n",
    "add_book(book) → adds a book.\n",
    "\n",
    "borrow_book(isbn) → reduces available copies if possible.\n",
    "\n",
    "return_book(isbn) → increases available copies.\n",
    "\n",
    "search(title/author) → finds books by title or author.\n",
    "\n",
    "Create a class Member:\n",
    "\n",
    "attributes: name, member_id, borrowed_books.\n",
    "\n",
    "methods: borrow(library, isbn) and return_book(library, isbn).\n",
    "\n",
    "👉 Challenge yourself to handle edge cases like: borrowing unavailable books, returning books not borrowed, and duplicate entries."
   ]
  },
  {
   "cell_type": "code",
   "execution_count": 24,
   "id": "f0eaba77",
   "metadata": {},
   "outputs": [],
   "source": [
    "class Book:\n",
    "    def __init__(self,title,author,isbn,available_copies):\n",
    "        self.title = title\n",
    "        self.isbn = isbn\n",
    "        self.author = author\n",
    "        self.copies = available_copies\n",
    "    \n",
    "    def borror_book(self):\n",
    "        if self.copies < 1:\n",
    "            return \"No books can be borrowed\"\n",
    "        self.copies -= 1\n",
    "        return \"Book successfully borrowed\"\n",
    "\n",
    "    def return_book(self):\n",
    "        self.copies += 1\n",
    "        return \"Book successfully returned\"     "
   ]
  },
  {
   "cell_type": "code",
   "execution_count": 28,
   "id": "f4efd56c",
   "metadata": {},
   "outputs": [],
   "source": [
    "class Member():\n",
    "    def __init__(self,name,member_id, borrowed_books):\n",
    "        self.name = name\n",
    "        self.id = member_id\n",
    "        self.books = []\n",
    "\n",
    "    def borrow_book(self, book:Book):\n",
    "        book.borror_book()\n",
    "        book_id = book.isbn\n",
    "        self.books.append(book_id)\n",
    "        return f\"member {self.id} has successfully borrowed {book_id}\"\n",
    "    \n",
    "    def return_book(self, book:Book):\n",
    "        book.return_book()\n",
    "        book_id = book.isbn\n",
    "        self.books.remove(book_id)\n",
    "        return f\"{self.id} has borrowed {book_id}\"\n"
   ]
  },
  {
   "cell_type": "code",
   "execution_count": 29,
   "id": "38bc9416",
   "metadata": {},
   "outputs": [],
   "source": [
    "class Library():\n",
    "    def __init__(self):\n",
    "        self.available_books = {}\n",
    "    \n",
    "    def add_book(self, book:Book):\n",
    "        title = book.title\n",
    "        author = book.author\n",
    "        isbn = book.isbn\n",
    "        num_copies = book.copies\n",
    "        if title not in self.available_books:\n",
    "            self.available_books[title] = {\n",
    "                \"author\" : author,\n",
    "                \"isbn\": isbn,\n",
    "                \"num_copies\" : num_copies,\n",
    "                \"borrowed_status\" : [] # contains ids of the members that bave borrwed the book and removes the \n",
    "            }\n",
    "        else:\n",
    "            self.available_books[title][\"num_copies\"] += 1\n",
    "        \n",
    "    def borrow_book(self, book: Book, member: Member):\n",
    "        result = member.borrow_book(book)\n",
    "        if \"successfully\" in result:\n",
    "            self.available_books[book.title][\"borrowed_status\"].append(member.id)\n",
    "            self.available_books[book.title][\"num_copies\"] -= 1\n",
    "        return \"Done borrowing\"\n",
    "\n",
    "    def return_book(self, book: Book, member: Member):\n",
    "        member.return_book(book)\n",
    "        book.return_book()\n",
    "        if member.id in self.available_books[book.title][\"borrowed_status\"]:\n",
    "            self.available_books[book.title][\"borrowed_status\"].remove(member.id)\n",
    "            self.available_books[book.title][\"num_copies\"] += 1\n",
    "        else:\n",
    "            print(\"No trace of the user\")\n",
    "        return \"Done return\"\n",
    "\n"
   ]
  },
  {
   "cell_type": "code",
   "execution_count": 30,
   "id": "da500200",
   "metadata": {},
   "outputs": [
    {
     "data": {
      "text/plain": [
       "'Done borrowing'"
      ]
     },
     "execution_count": 30,
     "metadata": {},
     "output_type": "execute_result"
    }
   ],
   "source": [
    "lib = Library()\n",
    "mem1 = Member(\"aep\",\"2306\",[])\n",
    "book1 = Book(\"nigga\",\"gigga\",\"giganiga123\",3)\n",
    "lib.add_book(book1)\n",
    "lib.borrow_book(book1,mem1)"
   ]
  },
  {
   "cell_type": "code",
   "execution_count": 31,
   "id": "88d8b6f9",
   "metadata": {},
   "outputs": [
    {
     "data": {
      "text/plain": [
       "{'nigga': {'author': 'gigga',\n",
       "  'isbn': 'giganiga123',\n",
       "  'num_copies': 2,\n",
       "  'borrowed_status': ['2306']}}"
      ]
     },
     "execution_count": 31,
     "metadata": {},
     "output_type": "execute_result"
    }
   ],
   "source": [
    "lib.available_books"
   ]
  },
  {
   "cell_type": "code",
   "execution_count": null,
   "id": "a683d147",
   "metadata": {},
   "outputs": [],
   "source": []
  }
 ],
 "metadata": {
  "kernelspec": {
   "display_name": "mentoroid_conda",
   "language": "python",
   "name": "python3"
  },
  "language_info": {
   "codemirror_mode": {
    "name": "ipython",
    "version": 3
   },
   "file_extension": ".py",
   "mimetype": "text/x-python",
   "name": "python",
   "nbconvert_exporter": "python",
   "pygments_lexer": "ipython3",
   "version": "3.11.8"
  }
 },
 "nbformat": 4,
 "nbformat_minor": 5
}
