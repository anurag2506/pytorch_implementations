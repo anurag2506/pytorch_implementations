{
 "cells": [
  {
   "cell_type": "markdown",
   "metadata": {},
   "source": [
    "## Goal: Design a small ride-sharing system that manages drivers, riders, and rides — but do it cleanly using OOP principles beyond just inheritance."
   ]
  },
  {
   "cell_type": "markdown",
   "metadata": {},
   "source": [
    "## Classes and Concepts to Use\n",
    "### 1. Abstract Base Class (Vehicle)\n",
    "\n",
    "    Attributes: license_plate, capacity.\n",
    "\n",
    "    Abstract methods:\n",
    "\n",
    "    calculate_fare(distance: float) -> float\n",
    "\n",
    "    __str__() → must be implemented by subclasses.\n",
    "\n",
    "### 2. Concrete Subclasses\n",
    "\n",
    "    Car(Vehicle)\n",
    "\n",
    "    has an extra attribute: base_fare = 50\n",
    "\n",
    "    fare formula: base_fare + 10 * distance\n",
    "\n",
    "    Bike(Vehicle)\n",
    "\n",
    "    base_fare = 20\n",
    "\n",
    "    fare formula: base_fare + 5 * distance\n",
    "\n",
    "### 3. Driver class\n",
    "\n",
    "    Attributes: name, vehicle (Composition — each driver “has-a” vehicle).\n",
    "\n",
    "    Method: accept_ride(ride) → sets themselves as the driver for that ride.\n",
    "\n",
    "### 4. Rider class\n",
    "\n",
    "    Attributes: name, wallet_balance.\n",
    "\n",
    "    Method: request_ride(distance, vehicle_type) → returns a Ride object.\n",
    "\n",
    "### 5. Ride class\n",
    "\n",
    "    Attributes: rider, driver, distance, fare.\n",
    "\n",
    "    Methods:\n",
    "\n",
    "    complete_ride() → deduct fare from rider wallet, print trip summary.\n",
    "\n",
    "    Implement __str__() for formatted output.\n",
    "\n",
    "    Implement operator overloading:\n",
    "\n",
    "    __gt__ and __lt__ to compare rides by fare.\n",
    "\n",
    "    __add__ to combine total fare of two rides."
   ]
  },
  {
   "cell_type": "code",
   "execution_count": null,
   "metadata": {},
   "outputs": [],
   "source": []
  }
 ],
 "metadata": {
  "kernelspec": {
   "display_name": "Python 3",
   "language": "python",
   "name": "python3"
  },
  "language_info": {
   "codemirror_mode": {
    "name": "ipython",
    "version": 3
   },
   "file_extension": ".py",
   "mimetype": "text/x-python",
   "name": "python",
   "nbconvert_exporter": "python",
   "pygments_lexer": "ipython3",
   "version": "3.11.8"
  }
 },
 "nbformat": 4,
 "nbformat_minor": 2
}
