{
 "cells": [
  {
   "cell_type": "code",
   "execution_count": 1,
   "id": "8ec3fa53",
   "metadata": {},
   "outputs": [],
   "source": [
    "import torch"
   ]
  },
  {
   "cell_type": "markdown",
   "id": "83814fc5",
   "metadata": {},
   "source": [
    "While generating randome numbers between a range [a,b], the scaling has to be done accordingly:<br>\n",
    "$x = x*(b-a) + a$\n",
    "\n",
    "<br>\n",
    "<h2>Different types of scaling:</h2>\n",
    "<b> 1. Min-Max scaling </b> <br>\n",
    "\n",
    "$x = (x - min(X))/(max(X)-min(X))$ \n",
    "<br><br>\n",
    "<b> 2. Z-score Normalisation: <b>  <br>\n",
    "\n",
    "$x = (x - mean(X)) / (STD(X))$ "
   ]
  },
  {
   "cell_type": "markdown",
   "id": "81ab7a3a",
   "metadata": {},
   "source": [
    "And torch.rand => Represents a uniform distribution\n",
    "torch.randn => Represents a normal distribution"
   ]
  },
  {
   "cell_type": "code",
   "execution_count": 16,
   "id": "e070f772",
   "metadata": {},
   "outputs": [
    {
     "name": "stdout",
     "output_type": "stream",
     "text": [
      "Mean: 0.0307, std:0.6642, Shape: torch.Size([10, 3]), device: mps:0\n"
     ]
    }
   ],
   "source": [
    "device = \"cuda\" if torch.cuda.is_available() else \"mps\" if torch.backends.mps.is_available() else \"cpu\"\n",
    "a = torch.rand((10,3))*2 - 1\n",
    "a = a.to(device)\n",
    "print(f\"Mean: {torch.mean(a):.4f}, std:{torch.std(a):.4f}, Shape: {a.shape}, device: {a.device}\")"
   ]
  },
  {
   "cell_type": "code",
   "execution_count": null,
   "id": "64b4942d",
   "metadata": {},
   "outputs": [
    {
     "data": {
      "text/plain": [
       "tensor([[ 0.2491, -0.2510, -0.8343],\n",
       "        [ 0.4964, -0.5645, -0.9993],\n",
       "        [-0.9703,  0.4531, -0.3153],\n",
       "        [ 0.0381, -0.2526,  0.6504],\n",
       "        [ 0.9143, -0.9852,  0.7419],\n",
       "        [ 0.8454, -0.6694,  0.3595],\n",
       "        [ 0.9689, -0.9728, -0.4408],\n",
       "        [ 0.2688, -0.0806,  0.3068],\n",
       "        [ 0.5924,  0.7037, -0.8021],\n",
       "        [ 0.6512, -0.1141,  0.9349]], device='mps:0')"
      ]
     },
     "execution_count": 17,
     "metadata": {},
     "output_type": "execute_result"
    }
   ],
   "source": []
  },
  {
   "cell_type": "code",
   "execution_count": null,
   "id": "60591795",
   "metadata": {},
   "outputs": [],
   "source": []
  }
 ],
 "metadata": {
  "kernelspec": {
   "display_name": "dl_proj",
   "language": "python",
   "name": "python3"
  },
  "language_info": {
   "codemirror_mode": {
    "name": "ipython",
    "version": 3
   },
   "file_extension": ".py",
   "mimetype": "text/x-python",
   "name": "python",
   "nbconvert_exporter": "python",
   "pygments_lexer": "ipython3",
   "version": "3.12.2"
  }
 },
 "nbformat": 4,
 "nbformat_minor": 5
}
