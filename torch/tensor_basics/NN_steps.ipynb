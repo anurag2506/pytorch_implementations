{
 "cells": [
  {
   "cell_type": "code",
   "execution_count": 1,
   "id": "353a9389",
   "metadata": {},
   "outputs": [],
   "source": [
    "import torch\n",
    "import torch.nn as nn\n",
    "from torch.optim import SGD\n",
    "device = \"cuda\" if torch.cuda.is_available() else \"mps\" if torch.backends.mps.is_available() else \"cpu\"\n"
   ]
  },
  {
   "cell_type": "code",
   "execution_count": 5,
   "id": "f0dae36b",
   "metadata": {},
   "outputs": [],
   "source": [
    "class Model:\n",
    "    def __init__(self, in_channels, out_channels, hidden_channels):\n",
    "        self.l1 = nn.Linear(in_channels,hidden_channels*4)\n",
    "        self.l2 = nn.Linear(hidden_channels*4, hidden_channels*2)\n",
    "        self.l3 = nn.Linear(hidden_channels*2, hidden_channels)\n",
    "        self.l4 = nn.Linear(hidden_channels, out_channels)\n",
    "    \n",
    "    def forward(self,x):\n",
    "        self.model = nn.Sequential(self.l1,self.l2,self.l3,self.l4)\n",
    "        return self.model(x)\n",
    "model = Model(32,2,4)"
   ]
  },
  {
   "cell_type": "code",
   "execution_count": 2,
   "id": "770e90dc",
   "metadata": {},
   "outputs": [],
   "source": [
    "model = nn.Sequential(nn.Linear(32*32*3,512),nn.Linear(512,128),nn.Linear(128,32),nn.Linear(32,1)).to(device)\n",
    "optim = SGD(model.parameters(), lr=1e-3)\n",
    "criterion = nn.BCELoss()"
   ]
  },
  {
   "cell_type": "code",
   "execution_count": 3,
   "id": "a4c7c76b",
   "metadata": {},
   "outputs": [
    {
     "ename": "",
     "evalue": "",
     "output_type": "error",
     "traceback": [
      "\u001b[1;31mThe Kernel crashed while executing code in the current cell or a previous cell. \n",
      "\u001b[1;31mPlease review the code in the cell(s) to identify a possible cause of the failure. \n",
      "\u001b[1;31mClick <a href='https://aka.ms/vscodeJupyterKernelCrash'>here</a> for more info. \n",
      "\u001b[1;31mView Jupyter <a href='command:jupyter.viewOutput'>log</a> for further details."
     ]
    }
   ],
   "source": [
    "'''Putting it all together\n",
    "Create a simple linear model and perform one optimization step.\n",
    "Create a random input tensor x and a random target tensor y.\n",
    "Create weight and bias tensors and manually compute the prediction y_pred.\n",
    "Compute the Mean Squared Error loss. \n",
    "Calculate the gradients using loss.backward() and update the weights manually based on a learning rate.\n",
    "'''\n",
    "\n",
    "X = torch.rand((64,3,32,32)).to(device=device)\n",
    "y = torch.randint(0,2, (64,1)).to(device=device)\n",
    "X = X.view(64,-1)\n",
    "data = torch.utils.data.TensorDataset(X,y)\n",
    "\n",
    "\n",
    "optim.zero_grad()\n",
    "y_pred = model(X) # forward\n",
    "loss = criterion(y_pred,y) # loss\n",
    "loss.backward()\n",
    "optim.step()\n",
    "print(f\"Loss for the step: {loss}\")\n",
    "print(f\"Gradients  : {loss}\")\n",
    "\n"
   ]
  },
  {
   "cell_type": "code",
   "execution_count": null,
   "id": "4a4faa7d",
   "metadata": {},
   "outputs": [],
   "source": [
    "\n",
    "'''\n",
    "Normalize a batch of data.\n",
    "Create a tensor representing a batch of 10 samples, each with 5 features.\n",
    "Normalize each feature column to have a mean of 0 and a standard deviation of 1, without using nn.BatchNorm1d. \n",
    "Use vectorized operations.\n",
    "'''\n"
   ]
  },
  {
   "cell_type": "code",
   "execution_count": null,
   "id": "0909bd81",
   "metadata": {},
   "outputs": [],
   "source": [
    "\n",
    "'''\n",
    "Build a custom tensor based on complex logic.\n",
    "Create a tensor A of shape (100, 100). Use a combination of masking and reduction operations to create a new 1D tensor B. \n",
    "For each row in A, if the mean is greater than 0.5, the corresponding element in B should be the sum of that row. \n",
    "Otherwise, it should be the maximum value of that row.\n",
    "'''\n"
   ]
  },
  {
   "cell_type": "code",
   "execution_count": null,
   "id": "c88e24c4",
   "metadata": {},
   "outputs": [],
   "source": [
    "\n",
    "'''\n",
    "Simulate a step in a recurrent network.\n",
    "Create an input sequence tensor of shape (batch_size, sequence_length, feature_size). \n",
    "Create a hidden state tensor of shape (batch_size, feature_size). \n",
    "Compute the next hidden state by matrix-multiplying the current input vector (input[:, t, :]) with a weight matrix and adding a bias.\n",
    "Use a Python loop to simulate one step of a simplified RNN.\n",
    "'''\n",
    "\n"
   ]
  },
  {
   "cell_type": "code",
   "execution_count": null,
   "id": "c50fa6e0",
   "metadata": {},
   "outputs": [],
   "source": [
    "'''\n",
    "Find and replace outliers using clamping and masking.\n",
    "Create a tensor data of shape (8, 8) with random values.\n",
    "First, calculate the mean and standard deviation of data.\n",
    "Define an \"outlier\" as any value more than two standard deviations away from the mean. \n",
    "Create a boolean mask to identify these outliers. \n",
    "Then, use a combination of clamping or torch.where to replace the outliers with the mean value.\n",
    "'''"
   ]
  }
 ],
 "metadata": {
  "kernelspec": {
   "display_name": "dl_proj",
   "language": "python",
   "name": "python3"
  },
  "language_info": {
   "codemirror_mode": {
    "name": "ipython",
    "version": 3
   },
   "file_extension": ".py",
   "mimetype": "text/x-python",
   "name": "python",
   "nbconvert_exporter": "python",
   "pygments_lexer": "ipython3",
   "version": "3.12.2"
  }
 },
 "nbformat": 4,
 "nbformat_minor": 5
}
