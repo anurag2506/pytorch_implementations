{
 "cells": [
  {
   "cell_type": "code",
   "execution_count": 6,
   "id": "d01cd178",
   "metadata": {},
   "outputs": [
    {
     "name": "stdout",
     "output_type": "stream",
     "text": [
      "Mean: -0.1269, std: 0.5295, shape:torch.Size([10, 3]), dtype: torch.float32, device: mps:0\n",
      "tensor(-0.9499, device='mps:0') tensor(0.9427, device='mps:0')\n",
      "True\n"
     ]
    }
   ],
   "source": [
    "'''\n",
    "Use torch.rand mapped to [-1,1].\n",
    "\n",
    "Move to the correct device.\n",
    "\n",
    "Print mean, std, shape, device (4 decimals for mean/std).\n",
    "\n",
    "Add an assert that min/max are inside [-1,1].\n",
    "\n",
    "'''\n",
    "\n",
    "import torch\n",
    "device = \"mps\" if torch.backends.mps.is_available() else \"cuda\" if torch.cuda.is_available() else \"cpu\"\n",
    "a = torch.rand(size=(10,3),device=device)*2 - 1\n",
    "print(f\"Mean: {torch.mean(a):.4f}, std: {torch.std(a):.4f}, shape:{a.shape}, dtype: {a.\n",
    "      dtype}, device: {a.device}\")\n",
    "min_ =torch.min(a)\n",
    "max_ =torch.max(a)\n",
    "print(min_, max_)\n",
    "\n",
    "\n",
    "print(torch.allclose(min_, torch.full_like(min_,-1),rtol=0.1) & torch.allclose(max_, torch.full_like(max_,+1),rtol=0.1))\n",
    "\n"
   ]
  },
  {
   "cell_type": "markdown",
   "id": "2a52a5b6",
   "metadata": {},
   "source": [
    "### What is torch.allclose?\n",
    "\n",
    "$torch.allclose(a, b, rtol=1e-5, atol=1e-8, equal_nan=False)$\n",
    "\n",
    "It returns a single Python bool (True/False), telling you whether all elements of two tensors are “close enough” within given tolerances."
   ]
  },
  {
   "cell_type": "code",
   "execution_count": 1,
   "id": "d37785a3",
   "metadata": {},
   "outputs": [
    {
     "data": {
      "text/plain": [
       "'\\nCreate a (1000,1000) tensor in [-1,1] on the correct device.\\n\\nPrint mean and std (4 decimals).\\n\\nVerify with asserts that the values are inside [-1,1] (using tolerance).\\n\\nTime how long it takes to create and move the tensor.\\n'"
      ]
     },
     "execution_count": 1,
     "metadata": {},
     "output_type": "execute_result"
    }
   ],
   "source": [
    "'''\n",
    "Create a (1000,1000) tensor in [-1,1] on the correct device.\n",
    "\n",
    "Print mean and std (4 decimals).\n",
    "\n",
    "Verify with asserts that the values are inside [-1,1] (using tolerance).\n",
    "\n",
    "Time how long it takes to create and move the tensor.\n",
    "'''"
   ]
  },
  {
   "cell_type": "code",
   "execution_count": 29,
   "id": "94b4058e",
   "metadata": {},
   "outputs": [
    {
     "name": "stdout",
     "output_type": "stream",
     "text": [
      "Mean value of the tensor: 0.0000, the standard deviation: 0.5772, the device :mps:0\n",
      "Min value of all tensor :-0.9999959468841553 and the max value of the tensor: 0.999997615814209\n",
      "the tensors are close:True\n"
     ]
    }
   ],
   "source": [
    "import torch\n",
    "device = \"cuda\" if torch.cuda.is_available() else \"mps\" if torch.backends.mps.is_available() else \"cpu\"\n",
    "# x = x*(b-a)+a\n",
    "a = torch.rand((1000,1000),device=device)*2 -1\n",
    "print(f\"Mean value of the tensor: {torch.mean(a):.4f}, the standard deviation: {torch.std(a):.4f}, the device :{a.device}\")\n",
    "min_ = a.min()\n",
    "max_ = a.max()\n",
    "inRange = min_>=(-1-1e-6) and max_<=(1+1e-6)\n",
    "print(f\"Min value of all tensor :{torch.min(a)} and the max value of the tensor: {torch.max(a)}\")\n",
    "print(f\"the tensors are close:{inRange}\")\n"
   ]
  },
  {
   "cell_type": "code",
   "execution_count": null,
   "id": "05c0781d",
   "metadata": {},
   "outputs": [],
   "source": []
  },
  {
   "cell_type": "code",
   "execution_count": null,
   "id": "28e53f71",
   "metadata": {},
   "outputs": [],
   "source": []
  },
  {
   "cell_type": "code",
   "execution_count": null,
   "id": "c30fb391",
   "metadata": {},
   "outputs": [],
   "source": []
  }
 ],
 "metadata": {
  "kernelspec": {
   "display_name": "dl_proj",
   "language": "python",
   "name": "python3"
  },
  "language_info": {
   "codemirror_mode": {
    "name": "ipython",
    "version": 3
   },
   "file_extension": ".py",
   "mimetype": "text/x-python",
   "name": "python",
   "nbconvert_exporter": "python",
   "pygments_lexer": "ipython3",
   "version": "3.12.2"
  }
 },
 "nbformat": 4,
 "nbformat_minor": 5
}
