{
 "cells": [
  {
   "cell_type": "code",
   "execution_count": 3,
   "id": "bb40863b",
   "metadata": {},
   "outputs": [
    {
     "name": "stdout",
     "output_type": "stream",
     "text": [
      "Initial Tensor (base_tensor):\n",
      "tensor([[[ 0.,  1.,  2.,  3.,  4.,  5.],\n",
      "         [ 6.,  7.,  8.,  9., 10., 11.],\n",
      "         [12., 13., 14., 15., 16., 17.],\n",
      "         [18., 19., 20., 21., 22., 23.]],\n",
      "\n",
      "        [[24., 25., 26., 27., 28., 29.],\n",
      "         [30., 31., 32., 33., 34., 35.],\n",
      "         [36., 37., 38., 39., 40., 41.],\n",
      "         [42., 43., 44., 45., 46., 47.]]])\n"
     ]
    }
   ],
   "source": [
    "import torch\n",
    "\n",
    "# Part 0: The base tensor\n",
    "# We will use this tensor for all parts of the challenge.\n",
    "base_tensor = torch.arange(48, dtype=torch.float32).reshape(2, 4, 6)\n",
    "print(\"Initial Tensor (base_tensor):\")\n",
    "print(base_tensor)\n"
   ]
  },
  {
   "cell_type": "markdown",
   "id": "1c44208e",
   "metadata": {},
   "source": [
    "Task 1.1: Extract and print a tensor containing the values in the middle two columns of the first \"page\" (the first 2D slice)."
   ]
  },
  {
   "cell_type": "code",
   "execution_count": 6,
   "id": "7c9e03a7",
   "metadata": {},
   "outputs": [],
   "source": [
    "first_page = base_tensor[0]\n",
    "cols = base_tensor.shape[2]\n",
    "left = cols//2 - 1\n",
    "right = ((cols+1)//2) + 1\n",
    "middle_2_t = first_page[:,left:right]"
   ]
  },
  {
   "cell_type": "code",
   "execution_count": 7,
   "id": "c269571c",
   "metadata": {},
   "outputs": [
    {
     "data": {
      "text/plain": [
       "tensor([[ 2.,  3.],\n",
       "        [ 8.,  9.],\n",
       "        [14., 15.],\n",
       "        [20., 21.]])"
      ]
     },
     "execution_count": 7,
     "metadata": {},
     "output_type": "execute_result"
    }
   ],
   "source": [
    "middle_2_t"
   ]
  },
  {
   "cell_type": "markdown",
   "id": "73796dc9",
   "metadata": {},
   "source": [
    "1.2 : Extract and print the last row of the entire tensor. Use negative indexing.\n",
    "Expected Output: tensor([42., 43., 44., 45., 46., 47.])\n"
   ]
  },
  {
   "cell_type": "code",
   "execution_count": 8,
   "id": "d965b25d",
   "metadata": {},
   "outputs": [],
   "source": [
    "last_row = base_tensor[-1,-1,:]"
   ]
  },
  {
   "cell_type": "code",
   "execution_count": 9,
   "id": "de001217",
   "metadata": {},
   "outputs": [
    {
     "data": {
      "text/plain": [
       "tensor([42., 43., 44., 45., 46., 47.])"
      ]
     },
     "execution_count": 9,
     "metadata": {},
     "output_type": "execute_result"
    }
   ],
   "source": [
    "last_row"
   ]
  },
  {
   "cell_type": "markdown",
   "id": "86f5a1c7",
   "metadata": {},
   "source": [
    "Task 1.3: Extract and print every other column of the second \"page\" (the second 2D slice).\n",
    "Expected Output:\n",
    "tensor([[24., 26., 28.],\n",
    "        [30., 32., 34.],\n",
    "        [36., 38., 40.],\n",
    "        [42., 44., 46.]])"
   ]
  },
  {
   "cell_type": "code",
   "execution_count": 29,
   "id": "60e9f6e5",
   "metadata": {},
   "outputs": [],
   "source": [
    "second_page = base_tensor[1,:,:]\n",
    "every_other = second_page[:,::2]"
   ]
  },
  {
   "cell_type": "code",
   "execution_count": 30,
   "id": "be14d43e",
   "metadata": {},
   "outputs": [
    {
     "data": {
      "text/plain": [
       "tensor([[24., 26., 28.],\n",
       "        [30., 32., 34.],\n",
       "        [36., 38., 40.],\n",
       "        [42., 44., 46.]])"
      ]
     },
     "execution_count": 30,
     "metadata": {},
     "output_type": "execute_result"
    }
   ],
   "source": [
    "every_other"
   ]
  },
  {
   "cell_type": "code",
   "execution_count": 31,
   "id": "5246f96f",
   "metadata": {},
   "outputs": [],
   "source": [
    "# Part 2: Advanced Indexing with Tensors and Masks\n",
    "# For this section, we will work with a new index tensor and a boolean mask.\n",
    "# Setup:\n",
    "# python\n",
    "# A new index tensor\n",
    "indices = torch.tensor([0, 2, 3], dtype=torch.long)\n",
    "\n",
    "# A new boolean mask tensor\n",
    "mask = base_tensor[1, :, :] > 35"
   ]
  },
  {
   "cell_type": "markdown",
   "id": "10333638",
   "metadata": {},
   "source": [
    "\n",
    "Task 2.1: Use indices to select and print the first, third, and fourth rows from the second \"page\" of base_tensor.\n",
    "Expected Output:\n",
    "tensor([[24., 25., 26., 27., 28., 29.],\n",
    "        [36., 37., 38., 39., 40., 41.],\n",
    "        [42., 43., 44., 45., 46., 47.]])"
   ]
  },
  {
   "cell_type": "code",
   "execution_count": 39,
   "id": "6cea657e",
   "metadata": {},
   "outputs": [
    {
     "data": {
      "text/plain": [
       "tensor([[24., 25., 26., 27., 28., 29.],\n",
       "        [36., 37., 38., 39., 40., 41.],\n",
       "        [42., 43., 44., 45., 46., 47.]])"
      ]
     },
     "execution_count": 39,
     "metadata": {},
     "output_type": "execute_result"
    }
   ],
   "source": [
    "second_page[indices]"
   ]
  },
  {
   "cell_type": "markdown",
   "id": "020457e3",
   "metadata": {},
   "source": [
    "Task 2.2: Use the boolean mask to select and print only the elements from the second \"page\" of base_tensor that are greater than 35. The result should be a 1D tensor.\n",
    "Expected Output:\n",
    "tensor([36., 37., 38., 39., 40., 41., 42., 43., 44., 45., 46., 47.])"
   ]
  },
  {
   "cell_type": "code",
   "execution_count": 42,
   "id": "c3b018b7",
   "metadata": {},
   "outputs": [
    {
     "data": {
      "text/plain": [
       "tensor([36., 37., 38., 39., 40., 41., 42., 43., 44., 45., 46., 47.])"
      ]
     },
     "execution_count": 42,
     "metadata": {},
     "output_type": "execute_result"
    }
   ],
   "source": [
    "second_page[mask]"
   ]
  },
  {
   "cell_type": "markdown",
   "id": "9afd6287",
   "metadata": {},
   "source": [
    "Task 2.3: Use the ... (ellipsis) operator to select and print all columns of the third row across all \"pages\" of the tensor, producing a 2D tensor.\n",
    "Expected Output:\n",
    "tensor([[12., 13., 14., 15., 16., 17.],\n",
    "        [36., 37., 38., 39., 40., 41.]])"
   ]
  },
  {
   "cell_type": "code",
   "execution_count": 44,
   "id": "b7e794d3",
   "metadata": {},
   "outputs": [
    {
     "data": {
      "text/plain": [
       "tensor([[12., 13., 14., 15., 16., 17.],\n",
       "        [36., 37., 38., 39., 40., 41.]])"
      ]
     },
     "execution_count": 44,
     "metadata": {},
     "output_type": "execute_result"
    }
   ],
   "source": [
    "base_tensor[:,2,:]"
   ]
  },
  {
   "cell_type": "markdown",
   "id": "671a601e",
   "metadata": {},
   "source": [
    "Part 3: The View vs. Copy Distinction\n",
    "This is a crucial concept in PyTorch for both memory efficiency and avoiding unexpected side effects.\n",
    "\n",
    "\n",
    "Task 3.1: View Behavior:\n",
    "- Use standard slicing to extract the first \"page\" of base_tensor and assign it to a new variable view_tensor.\n",
    "- Modify the element at view_tensor[0, 0] to 99.0.\n",
    "- Print both base_tensor and view_tensor. Explain why base_tensor was also modified.\n"
   ]
  },
  {
   "cell_type": "code",
   "execution_count": 51,
   "id": "a46f7aab",
   "metadata": {},
   "outputs": [],
   "source": [
    "view_tensor = base_tensor[0]\n",
    "view_tensor.view(torch.float32)[0,0] = 99.0"
   ]
  },
  {
   "cell_type": "code",
   "execution_count": 53,
   "id": "2557affb",
   "metadata": {},
   "outputs": [
    {
     "name": "stdout",
     "output_type": "stream",
     "text": [
      "tensor([[99.,  1.,  2.,  3.,  4.,  5.],\n",
      "        [ 6.,  7.,  8.,  9., 10., 11.],\n",
      "        [12., 13., 14., 15., 16., 17.],\n",
      "        [18., 19., 20., 21., 22., 23.]])\n",
      "tensor([[[99.,  1.,  2.,  3.,  4.,  5.],\n",
      "         [ 6.,  7.,  8.,  9., 10., 11.],\n",
      "         [12., 13., 14., 15., 16., 17.],\n",
      "         [18., 19., 20., 21., 22., 23.]],\n",
      "\n",
      "        [[24., 25., 26., 27., 28., 29.],\n",
      "         [30., 31., 32., 33., 34., 35.],\n",
      "         [36., 37., 38., 39., 40., 41.],\n",
      "         [42., 43., 44., 45., 46., 47.]]])\n"
     ]
    }
   ],
   "source": [
    "print(view_tensor)\n",
    "print(base_tensor)"
   ]
  },
  {
   "cell_type": "markdown",
   "id": "6555f343",
   "metadata": {},
   "source": [
    "Base tensor was also modified because base_tensor[0] is not a seperate object. It points to the same object as base_tensor. And as a result, modifying one tensor will cause the other tensor to change.\n",
    "\n",
    "This can be prevenetd if a copy is created using .copy() method in torch"
   ]
  },
  {
   "cell_type": "code",
   "execution_count": 54,
   "id": "9006aae4",
   "metadata": {},
   "outputs": [],
   "source": [
    "copy = torch.view_copy(base_tensor,dtype=torch.float32)"
   ]
  },
  {
   "cell_type": "code",
   "execution_count": 56,
   "id": "6d2d69a4",
   "metadata": {},
   "outputs": [],
   "source": [
    "copy[0,0] = 1"
   ]
  },
  {
   "cell_type": "code",
   "execution_count": 57,
   "id": "dda541b9",
   "metadata": {},
   "outputs": [
    {
     "name": "stdout",
     "output_type": "stream",
     "text": [
      "tensor([[[ 1.,  1.,  1.,  1.,  1.,  1.],\n",
      "         [ 6.,  7.,  8.,  9., 10., 11.],\n",
      "         [12., 13., 14., 15., 16., 17.],\n",
      "         [18., 19., 20., 21., 22., 23.]],\n",
      "\n",
      "        [[24., 25., 26., 27., 28., 29.],\n",
      "         [30., 31., 32., 33., 34., 35.],\n",
      "         [36., 37., 38., 39., 40., 41.],\n",
      "         [42., 43., 44., 45., 46., 47.]]])\n",
      "tensor([[[99.,  1.,  2.,  3.,  4.,  5.],\n",
      "         [ 6.,  7.,  8.,  9., 10., 11.],\n",
      "         [12., 13., 14., 15., 16., 17.],\n",
      "         [18., 19., 20., 21., 22., 23.]],\n",
      "\n",
      "        [[24., 25., 26., 27., 28., 29.],\n",
      "         [30., 31., 32., 33., 34., 35.],\n",
      "         [36., 37., 38., 39., 40., 41.],\n",
      "         [42., 43., 44., 45., 46., 47.]]])\n"
     ]
    }
   ],
   "source": [
    "print(copy)\n",
    "print(base_tensor)"
   ]
  },
  {
   "cell_type": "markdown",
   "id": "b530280d",
   "metadata": {},
   "source": [
    "Task 3.2: Copy Behavior\n",
    "Use advanced indexing (e.g., with an integer list [0, 1]) to extract the first two rows of the first \"page\" of base_tensor and assign it to a new variable copy_tensor.\n",
    "Modify the element at copy_tensor[0, 0] to 111.0.\n",
    "Print both base_tensor and copy_tensor. Explain why base_tensor was not modified this time."
   ]
  },
  {
   "cell_type": "code",
   "execution_count": null,
   "id": "9dcf09e4",
   "metadata": {},
   "outputs": [],
   "source": [
    "first_page = base_tensor[0]\n",
    "copy_tensor = first_page[[0,1]]\n",
    "copy_tensor[0,0] = 111.0"
   ]
  },
  {
   "cell_type": "code",
   "execution_count": null,
   "id": "f01faa77",
   "metadata": {},
   "outputs": [],
   "source": [
    "first_page = base_tensor[0]\n",
    "copy_tensor = first_page[[0,1]]\n",
    "copy_tensor[0,0] = 12.0"
   ]
  },
  {
   "cell_type": "code",
   "execution_count": 63,
   "id": "7aeb48f6",
   "metadata": {},
   "outputs": [
    {
     "name": "stdout",
     "output_type": "stream",
     "text": [
      "tensor([[[111.,   1.,   2.,   3.,   4.,   5.],\n",
      "         [  6.,   7.,   8.,   9.,  10.,  11.],\n",
      "         [ 12.,  13.,  14.,  15.,  16.,  17.],\n",
      "         [ 18.,  19.,  20.,  21.,  22.,  23.]],\n",
      "\n",
      "        [[ 24.,  25.,  26.,  27.,  28.,  29.],\n",
      "         [ 30.,  31.,  32.,  33.,  34.,  35.],\n",
      "         [ 36.,  37.,  38.,  39.,  40.,  41.],\n",
      "         [ 42.,  43.,  44.,  45.,  46.,  47.]]])\n",
      "tensor([[12.,  1.,  2.,  3.,  4.,  5.],\n",
      "        [ 6.,  7.,  8.,  9., 10., 11.]])\n"
     ]
    }
   ],
   "source": [
    "print(base_tensor)\n",
    "print(copy_tensor)"
   ]
  },
  {
   "cell_type": "markdown",
   "id": "5f195cb8",
   "metadata": {},
   "source": [
    "Task 4.1: You have a batch of image data represented by base_tensor, where the dimensions are (batch_size, height, width). You need to:\n",
    "Extract all rows except the first and last row, for both \"pages\" of the tensor.\n",
    "Extract every other column from this new slice.\n",
    "Set all the elements in the resulting tensor to -1.0.\n",
    "Print the modified base_tensor.\n",
    "Expected Output (Final base_tensor):\n",
    "\n"
   ]
  },
  {
   "cell_type": "code",
   "execution_count": 74,
   "id": "fbc337b7",
   "metadata": {},
   "outputs": [],
   "source": [
    "expected_tensor = torch.tensor([[[  0.,   1.,  -1.,   3.,  -1.,   5.],\n",
    "         [  6.,   7.,  -1.,   9.,  -1.,  11.],\n",
    "         [ 12.,  13.,  -1.,  15.,  -1.,  17.],\n",
    "         [ 18.,  19.,  20.,  21.,  22.,  23.]],\n",
    "\n",
    "        [[ 24.,  25.,  -1.,  27.,  -1.,  29.],\n",
    "         [ 30.,  31.,  -1.,  33.,  -1.,  35.],\n",
    "         [ 36.,  37.,  -1.,  39.,  -1.,  41.],\n",
    "         [ 42.,  43.,  44.,  45.,  46.,  47.]]])"
   ]
  },
  {
   "cell_type": "code",
   "execution_count": 85,
   "id": "4c7abd4a",
   "metadata": {},
   "outputs": [],
   "source": [
    "batch = torch.arange(48, dtype=torch.float32).reshape(2, 4, 6)\n",
    "all_rows = batch[:,0:-1,2::2]\n",
    "all_rows[:,:,:] = -1"
   ]
  },
  {
   "cell_type": "code",
   "execution_count": 86,
   "id": "d28c2d67",
   "metadata": {},
   "outputs": [
    {
     "data": {
      "text/plain": [
       "tensor([[[-1., -1.],\n",
       "         [-1., -1.],\n",
       "         [-1., -1.]],\n",
       "\n",
       "        [[-1., -1.],\n",
       "         [-1., -1.],\n",
       "         [-1., -1.]]])"
      ]
     },
     "execution_count": 86,
     "metadata": {},
     "output_type": "execute_result"
    }
   ],
   "source": [
    "all_rows"
   ]
  },
  {
   "cell_type": "code",
   "execution_count": 93,
   "id": "2ac42303",
   "metadata": {},
   "outputs": [],
   "source": [
    "x,y,z = batch.shape"
   ]
  },
  {
   "cell_type": "code",
   "execution_count": 94,
   "id": "c5c9b12f",
   "metadata": {},
   "outputs": [],
   "source": [
    "assert((batch == expected_tensor).sum() == x*y*z)"
   ]
  },
  {
   "cell_type": "code",
   "execution_count": null,
   "id": "a187822d",
   "metadata": {},
   "outputs": [],
   "source": []
  }
 ],
 "metadata": {
  "kernelspec": {
   "display_name": "dl_proj",
   "language": "python",
   "name": "python3"
  },
  "language_info": {
   "codemirror_mode": {
    "name": "ipython",
    "version": 3
   },
   "file_extension": ".py",
   "mimetype": "text/x-python",
   "name": "python",
   "nbconvert_exporter": "python",
   "pygments_lexer": "ipython3",
   "version": "3.12.2"
  }
 },
 "nbformat": 4,
 "nbformat_minor": 5
}
