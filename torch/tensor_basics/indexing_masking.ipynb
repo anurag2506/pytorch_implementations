{
 "cells": [
  {
   "cell_type": "code",
   "execution_count": 1,
   "id": "68a021e6",
   "metadata": {},
   "outputs": [],
   "source": [
    "import torch\n",
    "import numpy as np"
   ]
  },
  {
   "cell_type": "code",
   "execution_count": 9,
   "id": "b1f8dd0c",
   "metadata": {},
   "outputs": [
    {
     "name": "stdout",
     "output_type": "stream",
     "text": [
      "tensor([[0.8301, 0.9302, 0.7488, 0.3411],\n",
      "        [0.1528, 0.4557, 0.6848, 0.1411],\n",
      "        [0.9044, 0.2544, 0.3947, 0.4413],\n",
      "        [0.6384, 0.7066, 0.3714, 0.6816],\n",
      "        [0.8234, 0.2010, 0.5748, 0.5019]])\n",
      "tensor([[False, False, False, False],\n",
      "        [False, False,  True, False],\n",
      "        [False, False, False, False],\n",
      "        [ True, False, False,  True],\n",
      "        [False, False,  True,  True]])\n",
      "tensor([0.6848, 0.6384, 0.6816, 0.5748, 0.5019])\n"
     ]
    }
   ],
   "source": [
    "'''\n",
    "Advanced indexing and masking\n",
    "Conditional filtering with Boolean masking.\n",
    "Create a random tensor T with 20 elements. Find and print all elements in T that are greater than 0.5, but less than 0.7 and have the digit 6 in them\n",
    "'''\n",
    "r = torch.rand((5,4))\n",
    "mask = (r>0.5) & (r<0.7) \n",
    "greater = r[mask]\n",
    "print(r)\n",
    "print(mask)\n",
    "print(greater)\n",
    "\n"
   ]
  },
  {
   "cell_type": "code",
   "execution_count": 8,
   "id": "2e0d5b5e",
   "metadata": {},
   "outputs": [],
   "source": [
    "'''\n",
    "Using integer tensors for indexing (fancy indexing).\n",
    "Create a random tensor data with shape (10, 10). Use a 1D tensor indices containing integers to select specific rows from data. Select rows at indices [0, 5, 9, 2].\n",
    "'''\n",
    "a = torch.rand((10,10))\n",
    "b = [0,5,9,2]\n",
    "indices = torch.tensor(b)\n",
    "rand_indices = torch.randperm(10)\n",
    "inte = a[indices]\n",
    "ran = a[rand_indices]\n"
   ]
  },
  {
   "cell_type": "code",
   "execution_count": 9,
   "id": "4cd7d23d",
   "metadata": {},
   "outputs": [
    {
     "name": "stdout",
     "output_type": "stream",
     "text": [
      "tensor([[0.1323, 0.7174, 0.6548, 0.2595, 0.4747, 0.5486, 0.9330, 0.6111, 0.3577,\n",
      "         0.2788],\n",
      "        [0.0151, 0.6175, 0.0587, 0.9890, 0.6444, 0.6035, 0.6090, 0.0676, 0.3168,\n",
      "         0.3567],\n",
      "        [0.1091, 0.8203, 0.2393, 0.3100, 0.5158, 0.1769, 0.6600, 0.4971, 0.2836,\n",
      "         0.5723],\n",
      "        [0.6451, 0.6073, 0.5451, 0.5359, 0.7672, 0.3021, 0.7387, 0.0016, 0.6932,\n",
      "         0.7369],\n",
      "        [0.9532, 0.4255, 0.4772, 0.6492, 0.2448, 0.5133, 0.7209, 0.7258, 0.3459,\n",
      "         0.5275],\n",
      "        [0.0669, 0.4131, 0.8702, 0.4299, 0.0503, 0.4635, 0.3048, 0.3566, 0.7250,\n",
      "         0.0279],\n",
      "        [0.9012, 0.0299, 0.0560, 0.1958, 0.9424, 0.4657, 0.4985, 0.0035, 0.1929,\n",
      "         0.8814],\n",
      "        [0.0955, 0.4804, 0.7118, 0.4707, 0.9299, 0.9293, 0.5118, 0.9068, 0.9761,\n",
      "         0.4839],\n",
      "        [0.5760, 0.0463, 0.9772, 0.5790, 0.1438, 0.9615, 0.6336, 0.5087, 0.2348,\n",
      "         0.0188],\n",
      "        [0.8460, 0.4445, 0.3313, 0.9334, 0.7865, 0.9567, 0.7141, 0.2914, 0.3827,\n",
      "         0.9261]])\n",
      "tensor([0, 5, 9, 2])\n",
      "tensor([[0.1323, 0.7174, 0.6548, 0.2595, 0.4747, 0.5486, 0.9330, 0.6111, 0.3577,\n",
      "         0.2788],\n",
      "        [0.0669, 0.4131, 0.8702, 0.4299, 0.0503, 0.4635, 0.3048, 0.3566, 0.7250,\n",
      "         0.0279],\n",
      "        [0.8460, 0.4445, 0.3313, 0.9334, 0.7865, 0.9567, 0.7141, 0.2914, 0.3827,\n",
      "         0.9261],\n",
      "        [0.1091, 0.8203, 0.2393, 0.3100, 0.5158, 0.1769, 0.6600, 0.4971, 0.2836,\n",
      "         0.5723]])\n",
      "tensor([[0.8460, 0.4445, 0.3313, 0.9334, 0.7865, 0.9567, 0.7141, 0.2914, 0.3827,\n",
      "         0.9261],\n",
      "        [0.6451, 0.6073, 0.5451, 0.5359, 0.7672, 0.3021, 0.7387, 0.0016, 0.6932,\n",
      "         0.7369],\n",
      "        [0.0955, 0.4804, 0.7118, 0.4707, 0.9299, 0.9293, 0.5118, 0.9068, 0.9761,\n",
      "         0.4839],\n",
      "        [0.9012, 0.0299, 0.0560, 0.1958, 0.9424, 0.4657, 0.4985, 0.0035, 0.1929,\n",
      "         0.8814],\n",
      "        [0.1091, 0.8203, 0.2393, 0.3100, 0.5158, 0.1769, 0.6600, 0.4971, 0.2836,\n",
      "         0.5723],\n",
      "        [0.1323, 0.7174, 0.6548, 0.2595, 0.4747, 0.5486, 0.9330, 0.6111, 0.3577,\n",
      "         0.2788],\n",
      "        [0.5760, 0.0463, 0.9772, 0.5790, 0.1438, 0.9615, 0.6336, 0.5087, 0.2348,\n",
      "         0.0188],\n",
      "        [0.9532, 0.4255, 0.4772, 0.6492, 0.2448, 0.5133, 0.7209, 0.7258, 0.3459,\n",
      "         0.5275],\n",
      "        [0.0669, 0.4131, 0.8702, 0.4299, 0.0503, 0.4635, 0.3048, 0.3566, 0.7250,\n",
      "         0.0279],\n",
      "        [0.0151, 0.6175, 0.0587, 0.9890, 0.6444, 0.6035, 0.6090, 0.0676, 0.3168,\n",
      "         0.3567]])\n"
     ]
    }
   ],
   "source": [
    "print(a)\n",
    "print(indices)\n",
    "print(inte)\n",
    "print(ran)"
   ]
  },
  {
   "cell_type": "code",
   "execution_count": null,
   "id": "ab8f9868",
   "metadata": {},
   "outputs": [],
   "source": [
    "'''\n",
    "Conditional element replacement with torch.where.\n",
    "Create a random tensor x of shape (5, 5). Use torch.where to create a new tensor where all values in x greater than 0.5 are replaced with 1, and all other values are replaced with 0.\n",
    "'''\n",
    "x = torch.randn((5,5))\n",
    "a = torch.where(x>0.5, 1.0, 0.0)\n",
    "# x[indices] = 1\n",
    "# x[~indices] = 0\n"
   ]
  },
  {
   "cell_type": "markdown",
   "id": "b4b69d77",
   "metadata": {},
   "source": [
    "#### Torch.where(condtion,input, other)\n",
    "\n",
    "<b> out = x if condition else y </b>"
   ]
  },
  {
   "cell_type": "code",
   "execution_count": null,
   "id": "aa2dfd2d",
   "metadata": {},
   "outputs": [],
   "source": []
  }
 ],
 "metadata": {
  "kernelspec": {
   "display_name": "dl_proj",
   "language": "python",
   "name": "python3"
  },
  "language_info": {
   "codemirror_mode": {
    "name": "ipython",
    "version": 3
   },
   "file_extension": ".py",
   "mimetype": "text/x-python",
   "name": "python",
   "nbconvert_exporter": "python",
   "pygments_lexer": "ipython3",
   "version": "3.12.2"
  }
 },
 "nbformat": 4,
 "nbformat_minor": 5
}
