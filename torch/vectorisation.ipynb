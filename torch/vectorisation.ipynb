{
 "cells": [
  {
   "cell_type": "code",
   "execution_count": 2,
   "metadata": {},
   "outputs": [],
   "source": [
    "import torch\n",
    "import torch.nn as nn\n",
    "\n",
    "device = \"mps\" if torch.backends.mps.is_available() else \"cpu\""
   ]
  },
  {
   "cell_type": "markdown",
   "metadata": {},
   "source": [
    "### Broadcasting:\n",
    "- "
   ]
  },
  {
   "cell_type": "code",
   "execution_count": 13,
   "metadata": {},
   "outputs": [
    {
     "name": "stdout",
     "output_type": "stream",
     "text": [
      "tensor([[0.6768, 1.0444, 0.6036, 1.2032],\n",
      "        [0.7269, 1.0945, 0.6537, 1.2533],\n",
      "        [0.4592, 0.8268, 0.3860, 0.9856]], device='mps:0')\n"
     ]
    }
   ],
   "source": [
    "'''\n",
    "Basic arithmetic with broadcasting.\n",
    "Create a tensor A of shape (3, 1) and a tensor B of shape (1, 4). \n",
    "Perform element-wise addition and element-wise multiplication on A and B. \n",
    "Explain how broadcasting allows this operation to be performed.\n",
    "'''\n",
    "\n",
    "A = torch.rand(size=(3,1)).to(device)\n",
    "B = torch.rand(size=(1,4)).to(device)\n",
    "\n",
    "n = A.shape[0]\n",
    "m = B.shape[1]\n",
    "\n",
    "C = torch.zeros(size=(n,m)).to(device)\n",
    "for i in range(n):\n",
    "    for j in range(m):\n",
    "        C[i][j] = A[i][0] + B[0][j]\n",
    "\n",
    "print(C)\n"
   ]
  },
  {
   "cell_type": "code",
   "execution_count": null,
   "metadata": {},
   "outputs": [],
   "source": [
    "C_= torch.broadcast_shapes((3,1),(1,4))\n",
    "C_ = A+B\n",
    "assert(torch.sum(C_) == torch.sum(C)) # Equal number of 1s in both tensors"
   ]
  },
  {
   "cell_type": "code",
   "execution_count": null,
   "metadata": {},
   "outputs": [],
   "source": []
  },
  {
   "cell_type": "code",
   "execution_count": null,
   "metadata": {},
   "outputs": [
    {
     "data": {
      "text/plain": [
       "tensor([[1.3287, 1.7699, 1.0226, 1.1347],\n",
       "        [0.9724, 1.4136, 0.6662, 0.7784],\n",
       "        [1.1446, 1.5857, 0.8384, 0.9506]], device='mps:0')"
      ]
     },
     "execution_count": 10,
     "metadata": {},
     "output_type": "execute_result"
    }
   ],
   "source": []
  },
  {
   "cell_type": "code",
   "execution_count": null,
   "metadata": {},
   "outputs": [],
   "source": [
    "'''\n",
    "Matrix multiplication and reduction.\n",
    "Create a random tensor M1 of shape (5, 3) and another random tensor M2 of shape (3, 4).\n",
    "Perform matrix multiplication using the @ operator.\n",
    "Then, take the resulting matrix and compute the sum of all its elements.\n",
    "'''\n"
   ]
  },
  {
   "cell_type": "code",
   "execution_count": null,
   "metadata": {},
   "outputs": [],
   "source": [
    "\n",
    "'''\n",
    "Finding the maximum values and their indices.\n",
    "Create a tensor with random integer values between 1 and 100, of shape (4, 6). \n",
    "Find the maximum value in the entire tensor. \n",
    "Then, find the maximum value and its corresponding index for each row.\n",
    "'''\n"
   ]
  },
  {
   "cell_type": "code",
   "execution_count": null,
   "metadata": {},
   "outputs": [],
   "source": [
    "\n",
    "'''\n",
    "Element-wise exponential and square root.\n",
    "Create a tensor x using torch.arange from 0 to 9. Compute the element-wise exponential of x (e^x). \n",
    "Then, compute the square root of the result.\n",
    "'''\n",
    "\n"
   ]
  },
  {
   "cell_type": "code",
   "execution_count": null,
   "metadata": {},
   "outputs": [],
   "source": [
    "'''\n",
    "Clamping and filtering tensor values.\n",
    "Create a random tensor of shape (5, 5). Clamp all values in the tensor to be between 0.1 and 0.5.\n",
    "'''"
   ]
  }
 ],
 "metadata": {
  "kernelspec": {
   "display_name": "mentoroid_conda",
   "language": "python",
   "name": "python3"
  },
  "language_info": {
   "codemirror_mode": {
    "name": "ipython",
    "version": 3
   },
   "file_extension": ".py",
   "mimetype": "text/x-python",
   "name": "python",
   "nbconvert_exporter": "python",
   "pygments_lexer": "ipython3",
   "version": "3.11.8"
  }
 },
 "nbformat": 4,
 "nbformat_minor": 2
}
