{
 "cells": [
  {
   "cell_type": "markdown",
   "metadata": {},
   "source": [
    "`torch.storage()`\n",
    "- Storage is the raw memory buffer underlying a tensor\n",
    "- It is just a 1-D contiguous block of memory\n",
    "- Storage is the building block of a tensor\n",
    "- Tensors are just views on top of storage\n"
   ]
  },
  {
   "cell_type": "markdown",
   "metadata": {},
   "source": [
    "### Key-idea: \n",
    "Tensor = (storage + offset + stride + shape)\n",
    "- Storage : actual bytes in memory\n",
    "- offset : where the tensor starts reading from that storage \n",
    "- stride : how many steps to take to move to the next element in each dimension\n",
    "- shape: how many elements along each dimension"
   ]
  },
  {
   "cell_type": "markdown",
   "metadata": {},
   "source": [
    "{\n",
    "  storage: torch.Storage,\n",
    "  storage_offset: int,\n",
    "  sizes: tuple(int),\n",
    "  strides: tuple(int),\n",
    "  dtype: torch.dtype,\n",
    "  device: torch.device\n",
    "}\n"
   ]
  },
  {
   "cell_type": "code",
   "execution_count": null,
   "metadata": {
    "vscode": {
     "languageId": "plaintext"
    }
   },
   "outputs": [],
   "source": []
  },
  {
   "cell_type": "markdown",
   "metadata": {},
   "source": []
  }
 ],
 "metadata": {
  "language_info": {
   "name": "python"
  }
 },
 "nbformat": 4,
 "nbformat_minor": 2
}
